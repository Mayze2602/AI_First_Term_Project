{
 "cells": [
  {
   "cell_type": "code",
   "execution_count": null,
   "metadata": {},
   "outputs": [],
   "source": [
    "from normalizeGraph import normalize\n",
    "def iterativeDependingSearch(graf, start_node, end_node):\n",
    " start_node = start_node.capitalize()\n",
    " end_node = end_node.capitalize()\n",
    " if start_node not in graf.nodes or end_node not in graf.nodes:\n",
    "        return \"Nodo no existe\"\n",
    " for depth in range(0, len(graf.nodes)):\n",
    "\n",
    "    if start_node == end_node:\n",
    "        return [start_node]\n",
    "    frontier = [start_node]\n",
    "    result = \"failure\"\n",
    "    frontier.append(start_node)\n",
    "    path = []\n",
    "    while(frontier):\n",
    "        current_node = frontier.pop()\n",
    "        path.append(current_node)\n",
    "        if current_node == end_node:\n",
    "            result = \"success\"\n",
    "            break\n",
    "        if depth > 0:\n",
    "            for neighbor in graf.neighbors(current_node):\n",
    "                frontier.append(neighbor)\n",
    "    if result == \"success\":\n",
    "      return path, result\n",
    "\n",
    "start = input(\"Ingrese el nodo de inicio: \")\n",
    "end = input(\"Ingrese el nodo de destino: \")\n",
    "path, result = iterativeDependingSearch(graf, start, end)\n",
    "print(\"Resultado:\", result)\n",
    "print(\"Ruta:\", path)\n"
   ]
  }
 ],
 "metadata": {
  "kernelspec": {
   "display_name": "Python 3",
   "language": "python",
   "name": "python3"
  },
  "language_info": {
   "codemirror_mode": {
    "name": "ipython",
    "version": 3
   },
   "file_extension": ".py",
   "mimetype": "text/x-python",
   "name": "python",
   "nbconvert_exporter": "python",
   "pygments_lexer": "ipython3",
   "version": "3.11.8"
  }
 },
 "nbformat": 4,
 "nbformat_minor": 2
}
