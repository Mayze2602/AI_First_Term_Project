{
 "cells": [
  {
   "cell_type": "code",
   "execution_count": 1,
   "metadata": {},
   "outputs": [],
   "source": [
    "import networkx as nx\n",
    "import matplotlib.pyplot as plt"
   ]
  },
  {
   "cell_type": "code",
   "execution_count": 4,
   "metadata": {},
   "outputs": [],
   "source": [
    "graf = nx.Graph()"
   ]
  },
  {
   "cell_type": "code",
   "execution_count": 5,
   "metadata": {},
   "outputs": [],
   "source": [
    "graf.add_nodes_from(['Cozumel','Ciudad del Carmen','Angel Albino Corzo','Minatitlan','Veracruz',\n",
    "'Acapulco', 'Puebla', 'CDMX', 'Morelia', 'Uruapan',\n",
    "'San Luis Potosi', 'Tampico','Piedras Negras', 'Culiacan', 'Abraham Gonzalez',\n",
    "'Nogales', 'Guaymas', 'Loreto', 'Manuel Marquez de Leon', 'Los Cabos'\n",
    "])"
   ]
  },
  {
   "cell_type": "code",
   "execution_count": 6,
   "metadata": {},
   "outputs": [],
   "source": [
    "graf.add_edges_from([\n",
    "('Cozumel', 'Tampico', {'weight': 17}),\n",
    "('Ciudad del Carmen', 'Cozumel', {'weight': 15}),\n",
    "('Angel Albino Corzo', 'Ciudad del Carmen', {'weight': 11}),\n",
    "('Angel Albino Corzo', 'Minatitlan', {'weight': 15}),\n",
    "('Angel Albino Corzo', 'Acapulco', {'weight': 1}),\n",
    "('Minatitlan', 'Ciudad del Carmen', {'weight': 16}),\n",
    "('Minatitlan', 'Veracruz', {'weight': 18}),\n",
    "('Acapulco', 'Morelia', {'weight': 14}),\n",
    "('Acapulco', 'Uruapan', {'weight': 14}),\n",
    "('Puebla', 'Veracruz', {'weight': 12}),\n",
    "('Puebla', 'Acapulco', {'weight': 19}),\n",
    "('CDMX', 'Acapulco', {'weight': 4}),\n",
    "('Morelia', 'CDMX', {'weight': 15}),\n",
    "('Morelia', 'San Luis Potosi', {'weight': 11}),\n",
    "('Uruapan', 'Culiacan', {'weight': 15}),\n",
    "('San Luis Potosi', 'Abraham Gonzalez', {'weight': 15}),\n",
    "('Tampico', 'Puebla', {'weight': 7}),\n",
    "('Tampico', 'CDMX', {'weight': 8}),\n",
    "('Tampico', 'San Luis Potosi', {'weight': 11}),\n",
    "('Piedras Negras', 'San Luis Potosi', {'weight': 11}),\n",
    "('Piedras Negras', 'Tampico', {'weight': 16}),\n",
    "('Culiacan', 'Piedras Negras', {'weight': 8}),\n",
    "('Culiacan', 'Guaymas', {'weight': 16}),\n",
    "('Abraham Gonzalez', 'Piedras Negras', {'weight': 15}),\n",
    "('Nogales', 'Abraham Gonzalez', {'weight': 6}),\n",
    "('Guaymas', 'Abraham Gonzalez', {'weight': 18}),\n",
    "('Guaymas', 'Nogales', {'weight': 5}),\n",
    "('Guaymas', 'Loreto', {'weight': 13}),\n",
    "('Loreto', 'Manuel Marquez de Leon', {'weight': 15}),\n",
    "('Manuel Marquez de Leon', 'Culiacan', {'weight': 14}),\n",
    "('Manuel Marquez de Leon', 'Los Cabos', {'weight': 10}),\n",
    "])"
   ]
  },
  {
   "cell_type": "code",
   "execution_count": 16,
   "metadata": {},
   "outputs": [
    {
     "name": "stdout",
     "output_type": "stream",
     "text": [
      "El camino más corto es: ['Minatitlan', 'Angel Albino Corzo', 'Acapulco', 'Uruapan', 'Culiacan', 'Guaymas']\n"
     ]
    }
   ],
   "source": [
    "def Dijkstra(graf, start, end):\n",
    "\n",
    "    start = start.capitalize()\n",
    "    end = end.capitalize()\n",
    "\n",
    "    if start not in graf.nodes() or end not in graf.nodes():\n",
    "        raise ValueError(\"El nodo de inicio o el nodo objetivo no están en el grafo.\")\n",
    "\n",
    "    dist = {}\n",
    "    prev = {}\n",
    "    queue = []\n",
    "\n",
    "    for node in graf.nodes():\n",
    "        dist[node] = 1000000000\n",
    "        prev[node] = None\n",
    "        queue.append(node)\n",
    "\n",
    "    dist[start] = 0\n",
    "\n",
    "    while queue:\n",
    "        u = min(queue, key=lambda x: dist[x])\n",
    "        queue.remove(u)\n",
    "        for neighbor in graf.neighbors(u):\n",
    "            alt = dist[u] + graf[u][neighbor]['weight']\n",
    "            if alt < dist[neighbor]:\n",
    "                dist[neighbor] = alt\n",
    "                prev[neighbor] = u\n",
    "\n",
    "    if dist[end] == 1000000000:\n",
    "        raise ValueError(\"No se encontró un camino al nodo objetivo.\")\n",
    "\n",
    "    path = []\n",
    "    u = end\n",
    "    while prev[u]:\n",
    "        path.insert(0, u)\n",
    "        u = prev[u]\n",
    "    path.insert(0, u)\n",
    "\n",
    "    return path\n",
    "\n",
    "\n",
    "start = input(\"Ingrese el nodo de inicio: \")\n",
    "end = input(\"Ingrese el nodo objetivo: \")\n",
    "\n",
    "try:\n",
    "    camino = Dijkstra(graf, start, end)\n",
    "    print(\"El camino más corto es:\", camino)\n",
    "except ValueError as e:\n",
    "    print(\"Error:\", e)\n",
    "\n"
   ]
  },
  {
   "cell_type": "code",
   "execution_count": null,
   "metadata": {},
   "outputs": [],
   "source": []
  },
  {
   "cell_type": "code",
   "execution_count": null,
   "metadata": {},
   "outputs": [],
   "source": []
  }
 ],
 "metadata": {
  "kernelspec": {
   "display_name": "Python 3",
   "language": "python",
   "name": "python3"
  },
  "language_info": {
   "codemirror_mode": {
    "name": "ipython",
    "version": 3
   },
   "file_extension": ".py",
   "mimetype": "text/x-python",
   "name": "python",
   "nbconvert_exporter": "python",
   "pygments_lexer": "ipython3",
   "version": "3.11.8"
  }
 },
 "nbformat": 4,
 "nbformat_minor": 2
}
