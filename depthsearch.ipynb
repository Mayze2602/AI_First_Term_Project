{
 "cells": [
  {
   "cell_type": "code",
   "execution_count": 4,
   "metadata": {},
   "outputs": [
    {
     "name": "stdout",
     "output_type": "stream",
     "text": [
      "['Minatitlan', 'Veracruz', 'Puebla', 'Tampico', 'Piedras Negras', 'Abraham Gonzalez', 'Guaymas']\n"
     ]
    }
   ],
   "source": [
    "def depthsearch(graph, start, end):\n",
    "    start = start.capitalize()\n",
    "    end = end.capitalize()\n",
    "    if start not in graph or end not in graph:\n",
    "        return \"Nodo no encontrado\"\n",
    "    stack = []\n",
    "    visited = []\n",
    "    stack.append(start)\n",
    "    while stack:\n",
    "        node = stack.pop()\n",
    "        if node not in visited:\n",
    "            visited.append(node)\n",
    "            if node == end:\n",
    "                return visited\n",
    "            for neighbor in graph[node]:\n",
    "                stack.append(neighbor)\n",
    "    return visited\n",
    "\n",
    "start_node = input(\"Ingrese el nodo de inicio: \")\n",
    "end_node = input(\"Ingrese el nodo final: \")\n",
    "print(depthsearch(graf, start_node, end_node))"
   ]
  }
 ],
 "metadata": {
  "kernelspec": {
   "display_name": "Python 3",
   "language": "python",
   "name": "python3"
  },
  "language_info": {
   "codemirror_mode": {
    "name": "ipython",
    "version": 3
   },
   "file_extension": ".py",
   "mimetype": "text/x-python",
   "name": "python",
   "nbconvert_exporter": "python",
   "pygments_lexer": "ipython3",
   "version": "3.11.8"
  }
 },
 "nbformat": 4,
 "nbformat_minor": 2
}
