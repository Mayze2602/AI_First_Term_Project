{
 "cells": [
  {
   "cell_type": "code",
   "execution_count": 22,
   "metadata": {},
   "outputs": [],
   "source": [
    "def depthLimitedSearch(graf, start_node, end_node, limit): #debe regresar una lista con el camino o vacia si no hay camino\n",
    "    if start_node not in graf.nodes or end_node not in graf.nodes:\n",
    "        return \"Nodo no existe\"\n",
    "    if start_node == end_node:\n",
    "        return [start_node]\n",
    "    if limit == 0:\n",
    "        return \"Límite muy bajo\"\n",
    "    frontier = [start_node]\n",
    "    result = \"failure\"\n",
    "    frontier.append(start_node)\n",
    "    path = []\n",
    "    while(frontier):\n",
    "        current_node = frontier.pop()\n",
    "        path.append(current_node)\n",
    "        if current_node == end_node:\n",
    "            result = \"success\"\n",
    "            break\n",
    "        if limit > 0:\n",
    "            limit -= 1\n",
    "            for neighbor in graf.neighbors(current_node):\n",
    "                frontier.append(neighbor)\n",
    "                \n",
    "\n",
    "    return result, path"
   ]
  },
  {
   "cell_type": "code",
   "execution_count": 23,
   "metadata": {},
   "outputs": [
    {
     "name": "stdout",
     "output_type": "stream",
     "text": [
      "success\n",
      "['Minatitlan', 'Veracruz', 'Puebla', 'Tampico', 'Piedras Negras', 'Abraham Gonzalez', 'Guaymas']\n"
     ]
    }
   ],
   "source": [
    "result, path= depthLimitedSearch(graf, 'Minatitlan', 'Guaymas', 100)\n",
    "print(result)\n",
    "print(path) "
   ]
  },
  {
   "cell_type": "code",
   "execution_count": null,
   "metadata": {},
   "outputs": [],
   "source": []
  }
 ],
 "metadata": {
  "kernelspec": {
   "display_name": "Python 3",
   "language": "python",
   "name": "python3"
  },
  "language_info": {
   "codemirror_mode": {
    "name": "ipython",
    "version": 3
   },
   "file_extension": ".py",
   "mimetype": "text/x-python",
   "name": "python",
   "nbconvert_exporter": "python",
   "pygments_lexer": "ipython3",
   "version": "3.11.8"
  }
 },
 "nbformat": 4,
 "nbformat_minor": 2
}
